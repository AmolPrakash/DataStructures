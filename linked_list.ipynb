{
 "cells": [
  {
   "cell_type": "markdown",
   "metadata": {},
   "source": [
    "first create a node \n",
    "each node(which contains data) contains a pointer to the next data point "
   ]
  },
  {
   "cell_type": "code",
   "execution_count": 1,
   "metadata": {},
   "outputs": [],
   "source": [
    "class Node:\n",
    "    def __init__(self, d):\n",
    "        self.data = d\n",
    "        self.next = None\n",
    "\n",
    "    def setData(self,n):\n",
    "        self.data = n \n",
    "\n",
    "    def getData(self):\n",
    "        return self.data\n",
    "\n",
    "    def getNext(self):\n",
    "        return self.next\n",
    "\n",
    "    def setNext(self, node):\n",
    "        self.next = node"
   ]
  },
  {
   "cell_type": "code",
   "execution_count": 108,
   "metadata": {},
   "outputs": [],
   "source": [
    "class LinkedList:\n",
    "    def __init__(self, node = None):\n",
    "        self.head = node \n",
    "        \n",
    "    def length(self):\n",
    "        current = self.head\n",
    "        count = 0\n",
    "        while current != None:\n",
    "            count += 1\n",
    "            current = current.next \n",
    "        return int(count)\n",
    "    \n",
    "    def printLL(self):\n",
    "        current = self.head\n",
    "        while current != None:\n",
    "            print(current.data)\n",
    "            current = current.next \n",
    "    \n",
    "    \n",
    "        \n",
    "    def insertStart(self, node):\n",
    "        node = Node(node)\n",
    "        node.next = self.head\n",
    "        self.head = node\n",
    "    \n",
    "    def insertAt(self,node,position):\n",
    "        count = 0\n",
    "        current = self.head\n",
    "        if position >= int(self.length()):\n",
    "            return (self.insertEnd(node))\n",
    "        if position <= 0:\n",
    "            return (self.insertStart(node))\n",
    "        while count+1 != position:\n",
    "            count += 1\n",
    "            current = current.next\n",
    "            \n",
    "        node = Node(node)\n",
    "        nextOne = current.next \n",
    "        current.next = node\n",
    "        node.next = nextOne\n",
    "        \n",
    "    \n",
    "    def insertEnd(self,node):\n",
    "        node = Node(node)\n",
    "        current = self.head\n",
    "        while current.next != None:\n",
    "            current = current.next \n",
    "        current.next = node \n",
    "        node.next = None\n",
    "    \n",
    "    def searchLink(self,element):\n",
    "        current = self.head\n",
    "        while current != None:\n",
    "            if current.getData() == element:\n",
    "                return True\n",
    "            current = current.next \n",
    "        return False"
   ]
  },
  {
   "cell_type": "code",
   "execution_count": 112,
   "metadata": {},
   "outputs": [],
   "source": [
    "ll = LinkedList()\n",
    "ll.insertStart(5)\n",
    "ll.insertEnd(10)\n",
    "ll.insertEnd(15)\n",
    "ll.insertAt(6,2)\n",
    "ll.insertAt(8,3)\n"
   ]
  },
  {
   "cell_type": "code",
   "execution_count": 113,
   "metadata": {},
   "outputs": [
    {
     "name": "stdout",
     "output_type": "stream",
     "text": [
      "5\n",
      "10\n",
      "6\n",
      "8\n",
      "15\n"
     ]
    }
   ],
   "source": [
    "ll.printLL()"
   ]
  },
  {
   "cell_type": "code",
   "execution_count": null,
   "metadata": {},
   "outputs": [],
   "source": []
  }
 ],
 "metadata": {
  "kernelspec": {
   "display_name": "Python 3",
   "language": "python",
   "name": "python3"
  },
  "language_info": {
   "codemirror_mode": {
    "name": "ipython",
    "version": 3
   },
   "file_extension": ".py",
   "mimetype": "text/x-python",
   "name": "python",
   "nbconvert_exporter": "python",
   "pygments_lexer": "ipython3",
   "version": "3.7.3"
  }
 },
 "nbformat": 4,
 "nbformat_minor": 2
}
